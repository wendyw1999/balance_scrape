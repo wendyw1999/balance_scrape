{
 "cells": [
  {
   "cell_type": "code",
   "execution_count": 32,
   "metadata": {},
   "outputs": [],
   "source": [
    "import pandas as pd\n",
    "import numpy as np\n",
    "import scipy.linalg as la\n",
    "import matplotlib.pyplot as plt\n",
    "import sys\n",
    "sys.path.insert(0,'..')\n",
    "from src.etl.etl import *\n",
    "from src.scripts.scrape import *"
   ]
  },
  {
   "cell_type": "code",
   "execution_count": 33,
   "metadata": {},
   "outputs": [
    {
     "data": {
      "text/plain": [
       "<function src.etl.etl.download_image_from_url(url, name, location, extension)>"
      ]
     },
     "execution_count": 33,
     "metadata": {},
     "output_type": "execute_result"
    }
   ],
   "source": [
    "download_image_from_url"
   ]
  },
  {
   "cell_type": "code",
   "execution_count": 27,
   "metadata": {},
   "outputs": [
    {
     "ename": "TypeError",
     "evalue": "download_image_from_url() missing 1 required positional argument: 'extension'",
     "output_type": "error",
     "traceback": [
      "\u001b[1;31m---------------------------------------------------------------------------\u001b[0m",
      "\u001b[1;31mTypeError\u001b[0m                                 Traceback (most recent call last)",
      "\u001b[1;32m<ipython-input-27-01ee9496d424>\u001b[0m in \u001b[0;36m<module>\u001b[1;34m\u001b[0m\n\u001b[0;32m      1\u001b[0m download_image_from_url(\"https://uploads2.craft.co/uploads/company/logo/18xx/1853/normal_1bb3b3bed6738a0b.png\",\n\u001b[1;32m----> 2\u001b[1;33m                        \"\",\"adp\")\n\u001b[0m",
      "\u001b[1;31mTypeError\u001b[0m: download_image_from_url() missing 1 required positional argument: 'extension'"
     ]
    }
   ],
   "source": [
    "download_image_from_url(\"https://uploads2.craft.co/uploads/company/logo/18xx/1853/normal_1bb3b3bed6738a0b.png\",\n",
    "                       \"\",\"adp\")"
   ]
  }
 ],
 "metadata": {
  "kernelspec": {
   "display_name": "Python 3",
   "language": "python",
   "name": "python3"
  },
  "language_info": {
   "codemirror_mode": {
    "name": "ipython",
    "version": 3
   },
   "file_extension": ".py",
   "mimetype": "text/x-python",
   "name": "python",
   "nbconvert_exporter": "python",
   "pygments_lexer": "ipython3",
   "version": "3.7.3"
  }
 },
 "nbformat": 4,
 "nbformat_minor": 2
}
