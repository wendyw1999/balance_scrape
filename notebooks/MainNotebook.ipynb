{
 "cells": [
  {
   "cell_type": "code",
   "execution_count": 17,
   "metadata": {},
   "outputs": [],
   "source": [
    "import pandas as pd\n",
    "import numpy as np\n",
    "import scipy.linalg as la\n",
    "import matplotlib.pyplot as plt\n",
    "import sys\n",
    "import os\n",
    "sys.path.insert(0,'..')\n",
    "from src.etl.etl import *\n",
    "from src.scripts.scrape import *\n",
    "import random\n",
    "import time\n",
    "import extcolors\n",
    "import urllib.request\n",
    "import urllib"
   ]
  },
  {
   "cell_type": "markdown",
   "metadata": {},
   "source": [
    "# Data paparation\n",
    "1. Get all the company logo's img url (ending with .png)\n",
    "2. download all the img store it in the data logo img folder\n",
    "3. every time download an image, get the rgb of the img\n",
    "4. store the rgb in another dataframe\n"
   ]
  },
  {
   "cell_type": "code",
   "execution_count": 57,
   "metadata": {},
   "outputs": [],
   "source": [
    "data_path= os.path.join(os.path.abspath(os.pardir),\"data\\\\cleaned_websites.txt\")\n",
    "ranking = pd.read_csv(data_path,delimiter=\"\\t\")"
   ]
  },
  {
   "cell_type": "code",
   "execution_count": 121,
   "metadata": {},
   "outputs": [
    {
     "name": "stderr",
     "output_type": "stream",
     "text": [
      "C:\\Users\\Wendy W\\Anaconda3\\lib\\site-packages\\ipykernel_launcher.py:2: SettingWithCopyWarning: \n",
      "A value is trying to be set on a copy of a slice from a DataFrame.\n",
      "Try using .loc[row_indexer,col_indexer] = value instead\n",
      "\n",
      "See the caveats in the documentation: https://pandas.pydata.org/pandas-docs/stable/user_guide/indexing.html#returning-a-view-versus-a-copy\n",
      "  \n"
     ]
    }
   ],
   "source": [
    "first_200 = ranking.loc[0:199]\n",
    "first_200[\"imgUrl\"] = None"
   ]
  },
  {
   "cell_type": "code",
   "execution_count": 103,
   "metadata": {},
   "outputs": [],
   "source": [
    "#url_list = [0]*200"
   ]
  },
  {
   "cell_type": "code",
   "execution_count": 115,
   "metadata": {},
   "outputs": [
    {
     "name": "stdout",
     "output_type": "stream",
     "text": [
      "Couldn't find logo for this company\n",
      "Couldn't find logo for this company\n",
      "Couldn't find logo for this company\n",
      "Couldn't find logo for this company\n",
      "Couldn't find logo for this company\n",
      "Couldn't find logo for this company\n",
      "Couldn't find logo for this company\n",
      "Couldn't find logo for this company\n",
      "Couldn't find logo for this company\n",
      "Couldn't find logo for this company\n",
      "Couldn't find logo for this company\n",
      "Couldn't find logo for this company\n",
      "Couldn't find logo for this company\n",
      "Couldn't find logo for this company\n",
      "Couldn't find logo for this company\n"
     ]
    }
   ],
   "source": [
    "class_name_for_logos = \"summary__company-main-logo\"\n",
    "for i in range(1,200):\n",
    "    \n",
    "    url = first_200.loc[i][\"craftWebsite\"]\n",
    "    d = initialize_driver(url)\n",
    "    d.get(url)\n",
    "    time.sleep(1)\n",
    "    try:\n",
    "        logo_url = d.find_elements_by_class_name(class_name_for_logos)[0].get_attribute(\"src\")\n",
    "    except:\n",
    "        print(\"Couldn't find logo for this company\")\n",
    "        logo_url = None\n",
    "    kill_driver(d)\n",
    "    pause_second = random.randint(1,5)\n",
    "    time.sleep(pause_second)\n",
    "    url_list[i] = logo_url"
   ]
  },
  {
   "cell_type": "code",
   "execution_count": 122,
   "metadata": {},
   "outputs": [
    {
     "name": "stderr",
     "output_type": "stream",
     "text": [
      "C:\\Users\\Wendy W\\Anaconda3\\lib\\site-packages\\ipykernel_launcher.py:1: SettingWithCopyWarning: \n",
      "A value is trying to be set on a copy of a slice from a DataFrame.\n",
      "Try using .loc[row_indexer,col_indexer] = value instead\n",
      "\n",
      "See the caveats in the documentation: https://pandas.pydata.org/pandas-docs/stable/user_guide/indexing.html#returning-a-view-versus-a-copy\n",
      "  \"\"\"Entry point for launching an IPython kernel.\n"
     ]
    }
   ],
   "source": [
    "first_200[\"imgUrl\"] = url_list"
   ]
  },
  {
   "cell_type": "code",
   "execution_count": 9,
   "metadata": {},
   "outputs": [
    {
     "data": {
      "text/html": [
       "<div>\n",
       "<style scoped>\n",
       "    .dataframe tbody tr th:only-of-type {\n",
       "        vertical-align: middle;\n",
       "    }\n",
       "\n",
       "    .dataframe tbody tr th {\n",
       "        vertical-align: top;\n",
       "    }\n",
       "\n",
       "    .dataframe thead th {\n",
       "        text-align: right;\n",
       "    }\n",
       "</style>\n",
       "<table border=\"1\" class=\"dataframe\">\n",
       "  <thead>\n",
       "    <tr style=\"text-align: right;\">\n",
       "      <th></th>\n",
       "      <th>Unnamed: 0</th>\n",
       "      <th>companyName</th>\n",
       "      <th>Ranking Actual</th>\n",
       "      <th>craftWebsite</th>\n",
       "      <th>imgUrl</th>\n",
       "    </tr>\n",
       "  </thead>\n",
       "  <tbody>\n",
       "    <tr>\n",
       "      <th>0</th>\n",
       "      <td>0</td>\n",
       "      <td>Walmart</td>\n",
       "      <td>1</td>\n",
       "      <td>https://craft.co/walmart</td>\n",
       "      <td>https://uploads3.craft.co/uploads/company/logo...</td>\n",
       "    </tr>\n",
       "    <tr>\n",
       "      <th>1</th>\n",
       "      <td>1</td>\n",
       "      <td>Amazon.com</td>\n",
       "      <td>2</td>\n",
       "      <td>https://craft.co/amazon</td>\n",
       "      <td>https://uploads3.craft.co/uploads/company/logo...</td>\n",
       "    </tr>\n",
       "    <tr>\n",
       "      <th>2</th>\n",
       "      <td>2</td>\n",
       "      <td>Exxon Mobil</td>\n",
       "      <td>3</td>\n",
       "      <td>https://craft.co/vsn-mobil</td>\n",
       "      <td>https://uploads4.craft.co/uploads/company/logo...</td>\n",
       "    </tr>\n",
       "    <tr>\n",
       "      <th>3</th>\n",
       "      <td>3</td>\n",
       "      <td>Apple</td>\n",
       "      <td>4</td>\n",
       "      <td>https://craft.co/apple</td>\n",
       "      <td>https://uploads4.craft.co/uploads/company/logo...</td>\n",
       "    </tr>\n",
       "    <tr>\n",
       "      <th>4</th>\n",
       "      <td>4</td>\n",
       "      <td>CVS Health</td>\n",
       "      <td>5</td>\n",
       "      <td>https://craft.co/cvs-health</td>\n",
       "      <td>https://uploads2.craft.co/uploads/company/logo...</td>\n",
       "    </tr>\n",
       "  </tbody>\n",
       "</table>\n",
       "</div>"
      ],
      "text/plain": [
       "   Unnamed: 0  companyName  Ranking Actual                 craftWebsite  \\\n",
       "0           0      Walmart               1     https://craft.co/walmart   \n",
       "1           1   Amazon.com               2      https://craft.co/amazon   \n",
       "2           2  Exxon Mobil               3   https://craft.co/vsn-mobil   \n",
       "3           3        Apple               4       https://craft.co/apple   \n",
       "4           4   CVS Health               5  https://craft.co/cvs-health   \n",
       "\n",
       "                                              imgUrl  \n",
       "0  https://uploads3.craft.co/uploads/company/logo...  \n",
       "1  https://uploads3.craft.co/uploads/company/logo...  \n",
       "2  https://uploads4.craft.co/uploads/company/logo...  \n",
       "3  https://uploads4.craft.co/uploads/company/logo...  \n",
       "4  https://uploads2.craft.co/uploads/company/logo...  "
      ]
     },
     "execution_count": 9,
     "metadata": {},
     "output_type": "execute_result"
    }
   ],
   "source": [
    "data_path_img_url= os.path.join(os.path.abspath(os.pardir),\"data/img_urls.txt\")\n",
    "img_urls = pd.read_csv(data_path_img_url)\n",
    "img_urls.head()"
   ]
  },
  {
   "cell_type": "markdown",
   "metadata": {},
   "source": [
    "## Download Images\n"
   ]
  },
  {
   "cell_type": "code",
   "execution_count": 11,
   "metadata": {},
   "outputs": [],
   "source": [
    "imgFolder = os.path.join(os.path.abspath(os.pardir),\"data/logos/\")"
   ]
  },
  {
   "cell_type": "code",
   "execution_count": 19,
   "metadata": {},
   "outputs": [],
   "source": [
    "def download_image_from_url(url,folder_location,name):\n",
    "    '''\n",
    "    url: the destination url of the image\n",
    "    name: filename of the image to be stored, before the dot jpg\n",
    "    folder_location: local file path of the image to be stored. e.g. data/test_data/\n",
    "    '''\n",
    "    extension = url.split(\".\")[-1]\n",
    "    filename = folder_location+name+\".\"+extension\n",
    "    \n",
    "    urllib.request.urlretrieve(url, filename)\n",
    "    return filename"
   ]
  },
  {
   "cell_type": "code",
   "execution_count": 31,
   "metadata": {},
   "outputs": [
    {
     "name": "stdout",
     "output_type": "stream",
     "text": [
      "nan\n",
      "nan\n",
      "nan\n",
      "nan\n",
      "nan\n",
      "nan\n",
      "nan\n",
      "nan\n",
      "nan\n",
      "nan\n",
      "nan\n",
      "nan\n",
      "nan\n",
      "nan\n",
      "nan\n"
     ]
    }
   ],
   "source": [
    "colors_list = [0] * 200\n",
    "for i in range(0,len(img_urls)):\n",
    "    \n",
    "    imgUrl = img_urls.loc[i][\"imgUrl\"]\n",
    "    if not isinstance(imgUrl,str):\n",
    "        print(imgUrl)\n",
    "        continue\n",
    "    fileName = str(i).zfill(3)\n",
    "    filename = download_image_from_url(imgUrl,imgFolder,fileName)\n",
    "    colors, pixel_count = extcolors.extract_from_path(filename)\n",
    "    colors_list[i] = colors"
   ]
  },
  {
   "cell_type": "code",
   "execution_count": 34,
   "metadata": {},
   "outputs": [],
   "source": [
    "img_urls[\"color_rgb\"] = colors_list"
   ]
  },
  {
   "cell_type": "code",
   "execution_count": 40,
   "metadata": {},
   "outputs": [],
   "source": [
    "img_urls[\"numberOfColor\"] = img_urls[\"color_rgb\"].apply(lambda x:len(x) if (isinstance(x,list)) else 0)"
   ]
  },
  {
   "cell_type": "code",
   "execution_count": 43,
   "metadata": {},
   "outputs": [],
   "source": [
    "rgb_file = os.path.join(os.path.abspath(os.pardir),\"data/rgb.csv\")\n",
    "img_urls.drop(\"Unnamed: 0\",axis=1).to_csv(rgb_file)"
   ]
  },
  {
   "cell_type": "code",
   "execution_count": 44,
   "metadata": {},
   "outputs": [
    {
     "name": "stdout",
     "output_type": "stream",
     "text": [
      "Created new spreadsheet:RGB of 0_200 Logos companies Fortune 500 From:/home/caw062/balance_scrape/data/rgb.csv\n",
      "Sent to caiwei.wang.25@gmail.com\n"
     ]
    }
   ],
   "source": [
    "json_path = os.path.join(os.path.abspath(os.pardir),\"config/credentials/credentials.json\")\n",
    "write_to_worksheet(rgb_file,json_path,\"RGB of 0_200 Logos companies Fortune 500\",[\"caiwei.wang.25@gmail.com\"])"
   ]
  }
 ],
 "metadata": {
  "kernelspec": {
   "display_name": "Python 3",
   "language": "python",
   "name": "python3"
  },
  "language_info": {
   "codemirror_mode": {
    "name": "ipython",
    "version": 3
   },
   "file_extension": ".py",
   "mimetype": "text/x-python",
   "name": "python",
   "nbconvert_exporter": "python",
   "pygments_lexer": "ipython3",
   "version": "3.7.6"
  }
 },
 "nbformat": 4,
 "nbformat_minor": 2
}
