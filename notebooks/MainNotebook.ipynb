{
 "cells": [
  {
   "cell_type": "code",
   "execution_count": 114,
   "metadata": {},
   "outputs": [],
   "source": [
    "import pandas as pd\n",
    "import numpy as np\n",
    "import scipy.linalg as la\n",
    "import matplotlib.pyplot as plt\n",
    "import sys\n",
    "import os\n",
    "sys.path.insert(0,'..')\n",
    "from src.etl.etl import *\n",
    "from src.scripts.scrape import *\n",
    "import random\n",
    "import time"
   ]
  },
  {
   "cell_type": "code",
   "execution_count": 113,
   "metadata": {},
   "outputs": [],
   "source": [
    "pause_second = random.randint(1,5)"
   ]
  },
  {
   "cell_type": "code",
   "execution_count": 57,
   "metadata": {},
   "outputs": [],
   "source": [
    "data_path= os.path.join(os.path.abspath(os.pardir),\"data\\\\cleaned_websites.txt\")\n",
    "ranking = pd.read_csv(data_path,delimiter=\"\\t\")"
   ]
  },
  {
   "cell_type": "code",
   "execution_count": 121,
   "metadata": {},
   "outputs": [
    {
     "name": "stderr",
     "output_type": "stream",
     "text": [
      "C:\\Users\\Wendy W\\Anaconda3\\lib\\site-packages\\ipykernel_launcher.py:2: SettingWithCopyWarning: \n",
      "A value is trying to be set on a copy of a slice from a DataFrame.\n",
      "Try using .loc[row_indexer,col_indexer] = value instead\n",
      "\n",
      "See the caveats in the documentation: https://pandas.pydata.org/pandas-docs/stable/user_guide/indexing.html#returning-a-view-versus-a-copy\n",
      "  \n"
     ]
    }
   ],
   "source": [
    "first_200 = ranking.loc[0:199]\n",
    "first_200[\"imgUrl\"] = None"
   ]
  },
  {
   "cell_type": "code",
   "execution_count": 103,
   "metadata": {},
   "outputs": [],
   "source": [
    "#url_list = [0]*200"
   ]
  },
  {
   "cell_type": "code",
   "execution_count": 115,
   "metadata": {},
   "outputs": [
    {
     "name": "stdout",
     "output_type": "stream",
     "text": [
      "Couldn't find logo for this company\n",
      "Couldn't find logo for this company\n",
      "Couldn't find logo for this company\n",
      "Couldn't find logo for this company\n",
      "Couldn't find logo for this company\n",
      "Couldn't find logo for this company\n",
      "Couldn't find logo for this company\n",
      "Couldn't find logo for this company\n",
      "Couldn't find logo for this company\n",
      "Couldn't find logo for this company\n",
      "Couldn't find logo for this company\n",
      "Couldn't find logo for this company\n",
      "Couldn't find logo for this company\n",
      "Couldn't find logo for this company\n",
      "Couldn't find logo for this company\n"
     ]
    }
   ],
   "source": [
    "class_name_for_logos = \"summary__company-main-logo\"\n",
    "for i in range(1,200):\n",
    "    \n",
    "    url = first_200.loc[i][\"craftWebsite\"]\n",
    "    d = initialize_driver(url)\n",
    "    d.get(url)\n",
    "    time.sleep(1)\n",
    "    try:\n",
    "        logo_url = d.find_elements_by_class_name(class_name_for_logos)[0].get_attribute(\"src\")\n",
    "    except:\n",
    "        print(\"Couldn't find logo for this company\")\n",
    "        logo_url = None\n",
    "    kill_driver(d)\n",
    "    pause_second = random.randint(1,5)\n",
    "    time.sleep(pause_second)\n",
    "    url_list[i] = logo_url"
   ]
  },
  {
   "cell_type": "code",
   "execution_count": 122,
   "metadata": {},
   "outputs": [
    {
     "name": "stderr",
     "output_type": "stream",
     "text": [
      "C:\\Users\\Wendy W\\Anaconda3\\lib\\site-packages\\ipykernel_launcher.py:1: SettingWithCopyWarning: \n",
      "A value is trying to be set on a copy of a slice from a DataFrame.\n",
      "Try using .loc[row_indexer,col_indexer] = value instead\n",
      "\n",
      "See the caveats in the documentation: https://pandas.pydata.org/pandas-docs/stable/user_guide/indexing.html#returning-a-view-versus-a-copy\n",
      "  \"\"\"Entry point for launching an IPython kernel.\n"
     ]
    }
   ],
   "source": [
    "first_200[\"imgUrl\"] = url_list"
   ]
  },
  {
   "cell_type": "code",
   "execution_count": 123,
   "metadata": {},
   "outputs": [
    {
     "data": {
      "text/html": [
       "<div>\n",
       "<style scoped>\n",
       "    .dataframe tbody tr th:only-of-type {\n",
       "        vertical-align: middle;\n",
       "    }\n",
       "\n",
       "    .dataframe tbody tr th {\n",
       "        vertical-align: top;\n",
       "    }\n",
       "\n",
       "    .dataframe thead th {\n",
       "        text-align: right;\n",
       "    }\n",
       "</style>\n",
       "<table border=\"1\" class=\"dataframe\">\n",
       "  <thead>\n",
       "    <tr style=\"text-align: right;\">\n",
       "      <th></th>\n",
       "      <th>companyName</th>\n",
       "      <th>Ranking Actual</th>\n",
       "      <th>craftWebsite</th>\n",
       "      <th>imgUrl</th>\n",
       "    </tr>\n",
       "  </thead>\n",
       "  <tbody>\n",
       "    <tr>\n",
       "      <th>0</th>\n",
       "      <td>Walmart</td>\n",
       "      <td>1</td>\n",
       "      <td>https://craft.co/walmart</td>\n",
       "      <td>https://uploads3.craft.co/uploads/company/logo...</td>\n",
       "    </tr>\n",
       "    <tr>\n",
       "      <th>1</th>\n",
       "      <td>Amazon.com</td>\n",
       "      <td>2</td>\n",
       "      <td>https://craft.co/amazon</td>\n",
       "      <td>https://uploads3.craft.co/uploads/company/logo...</td>\n",
       "    </tr>\n",
       "    <tr>\n",
       "      <th>2</th>\n",
       "      <td>Exxon Mobil</td>\n",
       "      <td>3</td>\n",
       "      <td>https://craft.co/vsn-mobil</td>\n",
       "      <td>https://uploads4.craft.co/uploads/company/logo...</td>\n",
       "    </tr>\n",
       "    <tr>\n",
       "      <th>3</th>\n",
       "      <td>Apple</td>\n",
       "      <td>4</td>\n",
       "      <td>https://craft.co/apple</td>\n",
       "      <td>https://uploads4.craft.co/uploads/company/logo...</td>\n",
       "    </tr>\n",
       "    <tr>\n",
       "      <th>4</th>\n",
       "      <td>CVS Health</td>\n",
       "      <td>5</td>\n",
       "      <td>https://craft.co/cvs-health</td>\n",
       "      <td>https://uploads2.craft.co/uploads/company/logo...</td>\n",
       "    </tr>\n",
       "    <tr>\n",
       "      <th>...</th>\n",
       "      <td>...</td>\n",
       "      <td>...</td>\n",
       "      <td>...</td>\n",
       "      <td>...</td>\n",
       "    </tr>\n",
       "    <tr>\n",
       "      <th>195</th>\n",
       "      <td>Molina Healthcare</td>\n",
       "      <td>193</td>\n",
       "      <td>https://craft.co/molina-healthcare</td>\n",
       "      <td>https://uploads3.craft.co/uploads/company/logo...</td>\n",
       "    </tr>\n",
       "    <tr>\n",
       "      <th>196</th>\n",
       "      <td>Cognizant Technology Solutions</td>\n",
       "      <td>194</td>\n",
       "      <td>https://craft.co/cognizant</td>\n",
       "      <td>https://uploads3.craft.co/uploads/company/logo...</td>\n",
       "    </tr>\n",
       "    <tr>\n",
       "      <th>197</th>\n",
       "      <td>Marsh &amp; McLennan</td>\n",
       "      <td>195</td>\n",
       "      <td>https://craft.co/marsh-mclennan-comp</td>\n",
       "      <td>https://uploads2.craft.co/uploads/company/logo...</td>\n",
       "    </tr>\n",
       "    <tr>\n",
       "      <th>198</th>\n",
       "      <td>XPO Logistics</td>\n",
       "      <td>196</td>\n",
       "      <td>https://craft.co/xpo-logistics</td>\n",
       "      <td>https://uploads1.craft.co/uploads/company/logo...</td>\n",
       "    </tr>\n",
       "    <tr>\n",
       "      <th>199</th>\n",
       "      <td>Dominion Energy</td>\n",
       "      <td>197</td>\n",
       "      <td>https://craft.co/dominion-energy</td>\n",
       "      <td>https://uploads4.craft.co/uploads/company/logo...</td>\n",
       "    </tr>\n",
       "  </tbody>\n",
       "</table>\n",
       "<p>200 rows × 4 columns</p>\n",
       "</div>"
      ],
      "text/plain": [
       "                        companyName  Ranking Actual  \\\n",
       "0                           Walmart               1   \n",
       "1                        Amazon.com               2   \n",
       "2                       Exxon Mobil               3   \n",
       "3                             Apple               4   \n",
       "4                        CVS Health               5   \n",
       "..                              ...             ...   \n",
       "195               Molina Healthcare             193   \n",
       "196  Cognizant Technology Solutions             194   \n",
       "197                Marsh & McLennan             195   \n",
       "198                   XPO Logistics             196   \n",
       "199                 Dominion Energy             197   \n",
       "\n",
       "                             craftWebsite  \\\n",
       "0                https://craft.co/walmart   \n",
       "1                 https://craft.co/amazon   \n",
       "2              https://craft.co/vsn-mobil   \n",
       "3                  https://craft.co/apple   \n",
       "4             https://craft.co/cvs-health   \n",
       "..                                    ...   \n",
       "195    https://craft.co/molina-healthcare   \n",
       "196            https://craft.co/cognizant   \n",
       "197  https://craft.co/marsh-mclennan-comp   \n",
       "198        https://craft.co/xpo-logistics   \n",
       "199      https://craft.co/dominion-energy   \n",
       "\n",
       "                                                imgUrl  \n",
       "0    https://uploads3.craft.co/uploads/company/logo...  \n",
       "1    https://uploads3.craft.co/uploads/company/logo...  \n",
       "2    https://uploads4.craft.co/uploads/company/logo...  \n",
       "3    https://uploads4.craft.co/uploads/company/logo...  \n",
       "4    https://uploads2.craft.co/uploads/company/logo...  \n",
       "..                                                 ...  \n",
       "195  https://uploads3.craft.co/uploads/company/logo...  \n",
       "196  https://uploads3.craft.co/uploads/company/logo...  \n",
       "197  https://uploads2.craft.co/uploads/company/logo...  \n",
       "198  https://uploads1.craft.co/uploads/company/logo...  \n",
       "199  https://uploads4.craft.co/uploads/company/logo...  \n",
       "\n",
       "[200 rows x 4 columns]"
      ]
     },
     "execution_count": 123,
     "metadata": {},
     "output_type": "execute_result"
    }
   ],
   "source": [
    "data_path= os.path.join(os.path.abspath(os.pardir),\"data\\\\cleaned_websites.txt\")\n",
    "\n",
    "first_200.to_csv(\"\")"
   ]
  },
  {
   "cell_type": "code",
   "execution_count": 83,
   "metadata": {},
   "outputs": [
    {
     "data": {
      "text/plain": [
       "True"
      ]
     },
     "execution_count": 83,
     "metadata": {},
     "output_type": "execute_result"
    }
   ],
   "source": [
    "kill_driver(d)"
   ]
  },
  {
   "cell_type": "code",
   "execution_count": 71,
   "metadata": {},
   "outputs": [],
   "source": []
  }
 ],
 "metadata": {
  "kernelspec": {
   "display_name": "Python 3",
   "language": "python",
   "name": "python3"
  },
  "language_info": {
   "codemirror_mode": {
    "name": "ipython",
    "version": 3
   },
   "file_extension": ".py",
   "mimetype": "text/x-python",
   "name": "python",
   "nbconvert_exporter": "python",
   "pygments_lexer": "ipython3",
   "version": "3.7.3"
  }
 },
 "nbformat": 4,
 "nbformat_minor": 2
}
